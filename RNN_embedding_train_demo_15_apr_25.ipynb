{
 "cells": [
  {
   "cell_type": "code",
   "execution_count": null,
   "id": "5955c1b2",
   "metadata": {},
   "outputs": [
    {
     "name": "stdout",
     "output_type": "stream",
     "text": [
      "2.19.0\n"
     ]
    }
   ],
   "source": [
    "import tensorflow as tf\n",
    "print(tf.__version__)"
   ]
  },
  {
   "cell_type": "code",
   "execution_count": 2,
   "id": "f845b673",
   "metadata": {},
   "outputs": [],
   "source": [
    "import pandas as pd\n",
    "import tensorflow as tf\n",
    "from tensorflow.keras.preprocessing.text import Tokenizer\n",
    "from tensorflow.keras.preprocessing.sequence import pad_sequences\n",
    "from tensorflow.keras.models import Sequential\n",
    "from sklearn.model_selection import train_test_split\n",
    "import numpy as np"
   ]
  },
  {
   "cell_type": "code",
   "execution_count": 3,
   "id": "c8ac64d0",
   "metadata": {},
   "outputs": [],
   "source": [
    "#define a custom dataset\n",
    "X=reviews = [\n",
    "    \"The movie was absolutely fantastic and heartwarming.\",\n",
    "    \"I really enjoyed the plot and the acting was superb.\",\n",
    "    \"One of the worst films I’ve seen in years.\",\n",
    "    \"The storyline was dull and completely predictable.\",\n",
    "    \"A brilliant performance by the lead actor.\",\n",
    "    \"I wouldn't recommend this movie to anyone.\",\n",
    "    \"The visuals and soundtrack were truly amazing.\",\n",
    "    \"It felt like a waste of time with no real plot.\",\n",
    "    \"The ending was unexpected and very satisfying.\",\n",
    "    \"Terrible dialogue and poor direction throughout.\"\n",
    "]\n",
    "y=labels = [\n",
    "    \"positive\",\n",
    "    \"positive\",\n",
    "    \"negative\",\n",
    "    \"negative\",\n",
    "    \"positive\",\n",
    "    \"negative\",\n",
    "    \"positive\",\n",
    "    \"negative\",\n",
    "    \"positive\",\n",
    "    \"negative\"\n",
    "]\n"
   ]
  },
  {
   "cell_type": "code",
   "execution_count": 4,
   "id": "2e19f343",
   "metadata": {},
   "outputs": [],
   "source": [
    "tokenizer=Tokenizer(oov_token='UNK')\n",
    "#out of vocabulary token ie not present in Train data\n",
    "#in Test dataset replace all oov words with 'UNK'"
   ]
  },
  {
   "cell_type": "code",
   "execution_count": 5,
   "id": "54533e5c",
   "metadata": {},
   "outputs": [],
   "source": [
    "tokenizer.fit_on_texts(X)"
   ]
  },
  {
   "cell_type": "code",
   "execution_count": 6,
   "id": "30442cf8",
   "metadata": {},
   "outputs": [
    {
     "data": {
      "text/plain": [
       "{'UNK': 1,\n",
       " 'the': 2,\n",
       " 'and': 3,\n",
       " 'was': 4,\n",
       " 'movie': 5,\n",
       " 'i': 6,\n",
       " 'plot': 7,\n",
       " 'of': 8,\n",
       " 'a': 9,\n",
       " 'absolutely': 10,\n",
       " 'fantastic': 11,\n",
       " 'heartwarming': 12,\n",
       " 'really': 13,\n",
       " 'enjoyed': 14,\n",
       " 'acting': 15,\n",
       " 'superb': 16,\n",
       " 'one': 17,\n",
       " 'worst': 18,\n",
       " 'films': 19,\n",
       " 'i’ve': 20,\n",
       " 'seen': 21,\n",
       " 'in': 22,\n",
       " 'years': 23,\n",
       " 'storyline': 24,\n",
       " 'dull': 25,\n",
       " 'completely': 26,\n",
       " 'predictable': 27,\n",
       " 'brilliant': 28,\n",
       " 'performance': 29,\n",
       " 'by': 30,\n",
       " 'lead': 31,\n",
       " 'actor': 32,\n",
       " \"wouldn't\": 33,\n",
       " 'recommend': 34,\n",
       " 'this': 35,\n",
       " 'to': 36,\n",
       " 'anyone': 37,\n",
       " 'visuals': 38,\n",
       " 'soundtrack': 39,\n",
       " 'were': 40,\n",
       " 'truly': 41,\n",
       " 'amazing': 42,\n",
       " 'it': 43,\n",
       " 'felt': 44,\n",
       " 'like': 45,\n",
       " 'waste': 46,\n",
       " 'time': 47,\n",
       " 'with': 48,\n",
       " 'no': 49,\n",
       " 'real': 50,\n",
       " 'ending': 51,\n",
       " 'unexpected': 52,\n",
       " 'very': 53,\n",
       " 'satisfying': 54,\n",
       " 'terrible': 55,\n",
       " 'dialogue': 56,\n",
       " 'poor': 57,\n",
       " 'direction': 58,\n",
       " 'throughout': 59}"
      ]
     },
     "execution_count": 6,
     "metadata": {},
     "output_type": "execute_result"
    }
   ],
   "source": [
    "tokenizer.word_index"
   ]
  },
  {
   "cell_type": "code",
   "execution_count": 7,
   "id": "d2ac8380",
   "metadata": {},
   "outputs": [
    {
     "data": {
      "text/plain": [
       "OrderedDict([('the', 8),\n",
       "             ('movie', 2),\n",
       "             ('was', 4),\n",
       "             ('absolutely', 1),\n",
       "             ('fantastic', 1),\n",
       "             ('and', 6),\n",
       "             ('heartwarming', 1),\n",
       "             ('i', 2),\n",
       "             ('really', 1),\n",
       "             ('enjoyed', 1),\n",
       "             ('plot', 2),\n",
       "             ('acting', 1),\n",
       "             ('superb', 1),\n",
       "             ('one', 1),\n",
       "             ('of', 2),\n",
       "             ('worst', 1),\n",
       "             ('films', 1),\n",
       "             ('i’ve', 1),\n",
       "             ('seen', 1),\n",
       "             ('in', 1),\n",
       "             ('years', 1),\n",
       "             ('storyline', 1),\n",
       "             ('dull', 1),\n",
       "             ('completely', 1),\n",
       "             ('predictable', 1),\n",
       "             ('a', 2),\n",
       "             ('brilliant', 1),\n",
       "             ('performance', 1),\n",
       "             ('by', 1),\n",
       "             ('lead', 1),\n",
       "             ('actor', 1),\n",
       "             (\"wouldn't\", 1),\n",
       "             ('recommend', 1),\n",
       "             ('this', 1),\n",
       "             ('to', 1),\n",
       "             ('anyone', 1),\n",
       "             ('visuals', 1),\n",
       "             ('soundtrack', 1),\n",
       "             ('were', 1),\n",
       "             ('truly', 1),\n",
       "             ('amazing', 1),\n",
       "             ('it', 1),\n",
       "             ('felt', 1),\n",
       "             ('like', 1),\n",
       "             ('waste', 1),\n",
       "             ('time', 1),\n",
       "             ('with', 1),\n",
       "             ('no', 1),\n",
       "             ('real', 1),\n",
       "             ('ending', 1),\n",
       "             ('unexpected', 1),\n",
       "             ('very', 1),\n",
       "             ('satisfying', 1),\n",
       "             ('terrible', 1),\n",
       "             ('dialogue', 1),\n",
       "             ('poor', 1),\n",
       "             ('direction', 1),\n",
       "             ('throughout', 1)])"
      ]
     },
     "execution_count": 7,
     "metadata": {},
     "output_type": "execute_result"
    }
   ],
   "source": [
    "tokenizer.word_counts"
   ]
  },
  {
   "cell_type": "code",
   "execution_count": 8,
   "id": "7392edf3",
   "metadata": {},
   "outputs": [],
   "source": [
    "seq=tokenizer.texts_to_sequences(X)"
   ]
  },
  {
   "cell_type": "code",
   "execution_count": 9,
   "id": "da6f6c46",
   "metadata": {},
   "outputs": [
    {
     "data": {
      "text/plain": [
       "[[2, 5, 4, 10, 11, 3, 12],\n",
       " [6, 13, 14, 2, 7, 3, 2, 15, 4, 16],\n",
       " [17, 8, 2, 18, 19, 20, 21, 22, 23],\n",
       " [2, 24, 4, 25, 3, 26, 27],\n",
       " [9, 28, 29, 30, 2, 31, 32],\n",
       " [6, 33, 34, 35, 5, 36, 37],\n",
       " [2, 38, 3, 39, 40, 41, 42],\n",
       " [43, 44, 45, 9, 46, 8, 47, 48, 49, 50, 7],\n",
       " [2, 51, 4, 52, 3, 53, 54],\n",
       " [55, 56, 3, 57, 58, 59]]"
      ]
     },
     "execution_count": 9,
     "metadata": {},
     "output_type": "execute_result"
    }
   ],
   "source": [
    "seq"
   ]
  },
  {
   "cell_type": "code",
   "execution_count": 10,
   "id": "6fdf7b97",
   "metadata": {},
   "outputs": [],
   "source": [
    "seq=pad_sequences(seq,padding='post')"
   ]
  },
  {
   "cell_type": "code",
   "execution_count": 11,
   "id": "4d77a400",
   "metadata": {},
   "outputs": [
    {
     "data": {
      "text/plain": [
       "array([[ 2,  5,  4, 10, 11,  3, 12,  0,  0,  0,  0],\n",
       "       [ 6, 13, 14,  2,  7,  3,  2, 15,  4, 16,  0],\n",
       "       [17,  8,  2, 18, 19, 20, 21, 22, 23,  0,  0],\n",
       "       [ 2, 24,  4, 25,  3, 26, 27,  0,  0,  0,  0],\n",
       "       [ 9, 28, 29, 30,  2, 31, 32,  0,  0,  0,  0],\n",
       "       [ 6, 33, 34, 35,  5, 36, 37,  0,  0,  0,  0],\n",
       "       [ 2, 38,  3, 39, 40, 41, 42,  0,  0,  0,  0],\n",
       "       [43, 44, 45,  9, 46,  8, 47, 48, 49, 50,  7],\n",
       "       [ 2, 51,  4, 52,  3, 53, 54,  0,  0,  0,  0],\n",
       "       [55, 56,  3, 57, 58, 59,  0,  0,  0,  0,  0]])"
      ]
     },
     "execution_count": 11,
     "metadata": {},
     "output_type": "execute_result"
    }
   ],
   "source": [
    "seq #max encoded integer = 59; hence there are 59 words\n",
    "#0 is padded to make sentences equal length"
   ]
  },
  {
   "cell_type": "code",
   "execution_count": 12,
   "id": "594acb02",
   "metadata": {},
   "outputs": [
    {
     "data": {
      "text/plain": [
       "(10, 11)"
      ]
     },
     "execution_count": 12,
     "metadata": {},
     "output_type": "execute_result"
    }
   ],
   "source": [
    "seq.shape"
   ]
  },
  {
   "cell_type": "code",
   "execution_count": 13,
   "id": "8a365220",
   "metadata": {},
   "outputs": [],
   "source": [
    "from sklearn.preprocessing import LabelEncoder\n",
    "\n",
    "le = LabelEncoder()\n",
    "y = le.fit_transform(y)"
   ]
  },
  {
   "cell_type": "code",
   "execution_count": 14,
   "id": "39223db9",
   "metadata": {},
   "outputs": [],
   "source": [
    "X_train, X_test,y_train, y_test=train_test_split(seq,y,test_size=0.3, random_state=22)"
   ]
  },
  {
   "cell_type": "code",
   "execution_count": 66,
   "id": "3110ad0e",
   "metadata": {},
   "outputs": [
    {
     "data": {
      "text/plain": [
       "array([[ 2,  5,  4, 10, 11,  3, 12,  0,  0,  0,  0],\n",
       "       [ 6, 13, 14,  2,  7,  3,  2, 15,  4, 16,  0],\n",
       "       [17,  8,  2, 18, 19, 20, 21, 22, 23,  0,  0],\n",
       "       [ 2, 24,  4, 25,  3, 26, 27,  0,  0,  0,  0],\n",
       "       [ 9, 28, 29, 30,  2, 31, 32,  0,  0,  0,  0],\n",
       "       [ 6, 33, 34, 35,  5, 36, 37,  0,  0,  0,  0],\n",
       "       [ 2, 38,  3, 39, 40, 41, 42,  0,  0,  0,  0],\n",
       "       [43, 44, 45,  9, 46,  8, 47, 48, 49, 50,  7],\n",
       "       [ 2, 51,  4, 52,  3, 53, 54,  0,  0,  0,  0],\n",
       "       [55, 56,  3, 57, 58, 59,  0,  0,  0,  0,  0]])"
      ]
     },
     "execution_count": 66,
     "metadata": {},
     "output_type": "execute_result"
    }
   ],
   "source": [
    "seq"
   ]
  },
  {
   "cell_type": "code",
   "execution_count": 65,
   "id": "0a52a55f",
   "metadata": {},
   "outputs": [
    {
     "name": "stdout",
     "output_type": "stream",
     "text": [
      "59\n"
     ]
    }
   ],
   "source": [
    "import numpy as np\n",
    "print(np.max(seq))  # Should be < vocab_size\n",
    "#Input layer neurons count = vocab_size + 1=59 + 1 = 60"
   ]
  },
  {
   "cell_type": "code",
   "execution_count": 61,
   "id": "cccc537d",
   "metadata": {},
   "outputs": [],
   "source": [
    "# defining the RNN model with Embedding layer\n",
    "from tensorflow.keras.models import Sequential\n",
    "from tensorflow.keras import layers, models\n",
    "from tensorflow.keras.layers import Embedding, LSTM, GRU, SimpleRNN, Dense, Dropout, Input\n",
    "# Build Model\n",
    "model_lstm = models.Sequential([\n",
    "Embedding(input_dim=60,output_dim=2),#,input_length=11),\n",
    "LSTM(64, activation='relu', return_sequences=False), # Input shape, and LSTM layer with 32 units\n",
    "#return_sequences is set false as we are interested in the output at last time step only\n",
    "Dense(128, activation='relu'), #Fully connected layer\n",
    "Dense(2, activation='softmax') # Output layer positive/negative\n",
    "])"
   ]
  },
  {
   "cell_type": "code",
   "execution_count": 62,
   "id": "9431f9dd",
   "metadata": {},
   "outputs": [
    {
     "data": {
      "text/html": [
       "<pre style=\"white-space:pre;overflow-x:auto;line-height:normal;font-family:Menlo,'DejaVu Sans Mono',consolas,'Courier New',monospace\"><span style=\"font-weight: bold\">Model: \"sequential_4\"</span>\n",
       "</pre>\n"
      ],
      "text/plain": [
       "\u001b[1mModel: \"sequential_4\"\u001b[0m\n"
      ]
     },
     "metadata": {},
     "output_type": "display_data"
    },
    {
     "data": {
      "text/html": [
       "<pre style=\"white-space:pre;overflow-x:auto;line-height:normal;font-family:Menlo,'DejaVu Sans Mono',consolas,'Courier New',monospace\">┏━━━━━━━━━━━━━━━━━━━━━━━━━━━━━━━━━┳━━━━━━━━━━━━━━━━━━━━━━━━┳━━━━━━━━━━━━━━━┓\n",
       "┃<span style=\"font-weight: bold\"> Layer (type)                    </span>┃<span style=\"font-weight: bold\"> Output Shape           </span>┃<span style=\"font-weight: bold\">       Param # </span>┃\n",
       "┡━━━━━━━━━━━━━━━━━━━━━━━━━━━━━━━━━╇━━━━━━━━━━━━━━━━━━━━━━━━╇━━━━━━━━━━━━━━━┩\n",
       "│ embedding_4 (<span style=\"color: #0087ff; text-decoration-color: #0087ff\">Embedding</span>)         │ ?                      │   <span style=\"color: #00af00; text-decoration-color: #00af00\">0</span> (unbuilt) │\n",
       "├─────────────────────────────────┼────────────────────────┼───────────────┤\n",
       "│ lstm_4 (<span style=\"color: #0087ff; text-decoration-color: #0087ff\">LSTM</span>)                   │ ?                      │   <span style=\"color: #00af00; text-decoration-color: #00af00\">0</span> (unbuilt) │\n",
       "├─────────────────────────────────┼────────────────────────┼───────────────┤\n",
       "│ dense_7 (<span style=\"color: #0087ff; text-decoration-color: #0087ff\">Dense</span>)                 │ ?                      │   <span style=\"color: #00af00; text-decoration-color: #00af00\">0</span> (unbuilt) │\n",
       "├─────────────────────────────────┼────────────────────────┼───────────────┤\n",
       "│ dense_8 (<span style=\"color: #0087ff; text-decoration-color: #0087ff\">Dense</span>)                 │ ?                      │   <span style=\"color: #00af00; text-decoration-color: #00af00\">0</span> (unbuilt) │\n",
       "└─────────────────────────────────┴────────────────────────┴───────────────┘\n",
       "</pre>\n"
      ],
      "text/plain": [
       "┏━━━━━━━━━━━━━━━━━━━━━━━━━━━━━━━━━┳━━━━━━━━━━━━━━━━━━━━━━━━┳━━━━━━━━━━━━━━━┓\n",
       "┃\u001b[1m \u001b[0m\u001b[1mLayer (type)                   \u001b[0m\u001b[1m \u001b[0m┃\u001b[1m \u001b[0m\u001b[1mOutput Shape          \u001b[0m\u001b[1m \u001b[0m┃\u001b[1m \u001b[0m\u001b[1m      Param #\u001b[0m\u001b[1m \u001b[0m┃\n",
       "┡━━━━━━━━━━━━━━━━━━━━━━━━━━━━━━━━━╇━━━━━━━━━━━━━━━━━━━━━━━━╇━━━━━━━━━━━━━━━┩\n",
       "│ embedding_4 (\u001b[38;5;33mEmbedding\u001b[0m)         │ ?                      │   \u001b[38;5;34m0\u001b[0m (unbuilt) │\n",
       "├─────────────────────────────────┼────────────────────────┼───────────────┤\n",
       "│ lstm_4 (\u001b[38;5;33mLSTM\u001b[0m)                   │ ?                      │   \u001b[38;5;34m0\u001b[0m (unbuilt) │\n",
       "├─────────────────────────────────┼────────────────────────┼───────────────┤\n",
       "│ dense_7 (\u001b[38;5;33mDense\u001b[0m)                 │ ?                      │   \u001b[38;5;34m0\u001b[0m (unbuilt) │\n",
       "├─────────────────────────────────┼────────────────────────┼───────────────┤\n",
       "│ dense_8 (\u001b[38;5;33mDense\u001b[0m)                 │ ?                      │   \u001b[38;5;34m0\u001b[0m (unbuilt) │\n",
       "└─────────────────────────────────┴────────────────────────┴───────────────┘\n"
      ]
     },
     "metadata": {},
     "output_type": "display_data"
    },
    {
     "data": {
      "text/html": [
       "<pre style=\"white-space:pre;overflow-x:auto;line-height:normal;font-family:Menlo,'DejaVu Sans Mono',consolas,'Courier New',monospace\"><span style=\"font-weight: bold\"> Total params: </span><span style=\"color: #00af00; text-decoration-color: #00af00\">0</span> (0.00 B)\n",
       "</pre>\n"
      ],
      "text/plain": [
       "\u001b[1m Total params: \u001b[0m\u001b[38;5;34m0\u001b[0m (0.00 B)\n"
      ]
     },
     "metadata": {},
     "output_type": "display_data"
    },
    {
     "data": {
      "text/html": [
       "<pre style=\"white-space:pre;overflow-x:auto;line-height:normal;font-family:Menlo,'DejaVu Sans Mono',consolas,'Courier New',monospace\"><span style=\"font-weight: bold\"> Trainable params: </span><span style=\"color: #00af00; text-decoration-color: #00af00\">0</span> (0.00 B)\n",
       "</pre>\n"
      ],
      "text/plain": [
       "\u001b[1m Trainable params: \u001b[0m\u001b[38;5;34m0\u001b[0m (0.00 B)\n"
      ]
     },
     "metadata": {},
     "output_type": "display_data"
    },
    {
     "data": {
      "text/html": [
       "<pre style=\"white-space:pre;overflow-x:auto;line-height:normal;font-family:Menlo,'DejaVu Sans Mono',consolas,'Courier New',monospace\"><span style=\"font-weight: bold\"> Non-trainable params: </span><span style=\"color: #00af00; text-decoration-color: #00af00\">0</span> (0.00 B)\n",
       "</pre>\n"
      ],
      "text/plain": [
       "\u001b[1m Non-trainable params: \u001b[0m\u001b[38;5;34m0\u001b[0m (0.00 B)\n"
      ]
     },
     "metadata": {},
     "output_type": "display_data"
    }
   ],
   "source": [
    "model_lstm.summary()"
   ]
  },
  {
   "cell_type": "code",
   "execution_count": 18,
   "id": "85b661f2",
   "metadata": {},
   "outputs": [
    {
     "data": {
      "text/plain": [
       "array([1, 0, 0, 0, 1, 0, 1], dtype=int64)"
      ]
     },
     "execution_count": 18,
     "metadata": {},
     "output_type": "execute_result"
    }
   ],
   "source": [
    "y_train"
   ]
  },
  {
   "cell_type": "code",
   "execution_count": 38,
   "id": "f9424ec0",
   "metadata": {},
   "outputs": [],
   "source": [
    "model_lstm.compile(\n",
    "    loss='sparse_categorical_crossentropy',       # correct loss for 0/1 labels\n",
    "    optimizer='adam',\n",
    "    metrics=['accuracy']              # accuracy\n",
    ")\n"
   ]
  },
  {
   "cell_type": "code",
   "execution_count": 39,
   "id": "c74f838f",
   "metadata": {},
   "outputs": [
    {
     "data": {
      "text/plain": [
       "array([[17,  8,  2, 18, 19, 20, 21, 22, 23,  0,  0],\n",
       "       [ 6, 13, 14,  2,  7,  3,  2, 15,  4, 16,  0],\n",
       "       [55, 56,  3, 57, 58, 59,  0,  0,  0,  0,  0]])"
      ]
     },
     "execution_count": 39,
     "metadata": {},
     "output_type": "execute_result"
    }
   ],
   "source": [
    "X_test"
   ]
  },
  {
   "cell_type": "code",
   "execution_count": 20,
   "id": "d0ebb528",
   "metadata": {},
   "outputs": [
    {
     "name": "stdout",
     "output_type": "stream",
     "text": [
      "\u001b[1m1/1\u001b[0m \u001b[32m━━━━━━━━━━━━━━━━━━━━\u001b[0m\u001b[37m\u001b[0m \u001b[1m1s\u001b[0m 549ms/step\n"
     ]
    }
   ],
   "source": [
    "#just to check shape of output dense vectors\n",
    "#try prediction on test data without Training\n",
    "#from a model with random initial weights\n",
    "#As Test data has just 3 sentences\n",
    "#it returns 2 output values corresponding to each word \n",
    "#in 3 Test reviews\n",
    "pred=model_lstm.predict(X_test)"
   ]
  },
  {
   "cell_type": "code",
   "execution_count": 21,
   "id": "22d359dc",
   "metadata": {},
   "outputs": [
    {
     "data": {
      "text/plain": [
       "array([[0.50134844, 0.49865153],\n",
       "       [0.50157666, 0.49842328],\n",
       "       [0.5020301 , 0.49796996]], dtype=float32)"
      ]
     },
     "execution_count": 21,
     "metadata": {},
     "output_type": "execute_result"
    }
   ],
   "source": [
    "pred"
   ]
  },
  {
   "cell_type": "code",
   "execution_count": 22,
   "id": "53179584",
   "metadata": {},
   "outputs": [
    {
     "name": "stdout",
     "output_type": "stream",
     "text": [
      "(7, 11)\n",
      "(3, 11)\n"
     ]
    }
   ],
   "source": [
    "print(X_train.shape)\n",
    "print(X_test.shape)"
   ]
  },
  {
   "cell_type": "code",
   "execution_count": 23,
   "id": "cb2d0189",
   "metadata": {},
   "outputs": [
    {
     "name": "stdout",
     "output_type": "stream",
     "text": [
      "(7,)\n",
      "(3,)\n"
     ]
    }
   ],
   "source": [
    "print(y_train.shape)\n",
    "print(y_test.shape)"
   ]
  },
  {
   "cell_type": "code",
   "execution_count": 51,
   "id": "f2f7e05f",
   "metadata": {},
   "outputs": [
    {
     "name": "stdout",
     "output_type": "stream",
     "text": [
      "Epoch 1/70\n",
      "\u001b[1m1/1\u001b[0m \u001b[32m━━━━━━━━━━━━━━━━━━━━\u001b[0m\u001b[37m\u001b[0m \u001b[1m0s\u001b[0m 88ms/step - accuracy: 1.0000 - loss: 0.0147 - val_accuracy: 0.3333 - val_loss: 2.6906\n",
      "Epoch 2/70\n",
      "\u001b[1m1/1\u001b[0m \u001b[32m━━━━━━━━━━━━━━━━━━━━\u001b[0m\u001b[37m\u001b[0m \u001b[1m0s\u001b[0m 59ms/step - accuracy: 1.0000 - loss: 0.0137 - val_accuracy: 0.3333 - val_loss: 2.6974\n",
      "Epoch 3/70\n",
      "\u001b[1m1/1\u001b[0m \u001b[32m━━━━━━━━━━━━━━━━━━━━\u001b[0m\u001b[37m\u001b[0m \u001b[1m0s\u001b[0m 64ms/step - accuracy: 1.0000 - loss: 0.0124 - val_accuracy: 0.3333 - val_loss: 2.7000\n",
      "Epoch 4/70\n",
      "\u001b[1m1/1\u001b[0m \u001b[32m━━━━━━━━━━━━━━━━━━━━\u001b[0m\u001b[37m\u001b[0m \u001b[1m0s\u001b[0m 65ms/step - accuracy: 1.0000 - loss: 0.0109 - val_accuracy: 0.3333 - val_loss: 2.7040\n",
      "Epoch 5/70\n",
      "\u001b[1m1/1\u001b[0m \u001b[32m━━━━━━━━━━━━━━━━━━━━\u001b[0m\u001b[37m\u001b[0m \u001b[1m0s\u001b[0m 59ms/step - accuracy: 1.0000 - loss: 0.0093 - val_accuracy: 0.3333 - val_loss: 2.7136\n",
      "Epoch 6/70\n",
      "\u001b[1m1/1\u001b[0m \u001b[32m━━━━━━━━━━━━━━━━━━━━\u001b[0m\u001b[37m\u001b[0m \u001b[1m0s\u001b[0m 63ms/step - accuracy: 1.0000 - loss: 0.0077 - val_accuracy: 0.3333 - val_loss: 2.7459\n",
      "Epoch 7/70\n",
      "\u001b[1m1/1\u001b[0m \u001b[32m━━━━━━━━━━━━━━━━━━━━\u001b[0m\u001b[37m\u001b[0m \u001b[1m0s\u001b[0m 58ms/step - accuracy: 1.0000 - loss: 0.0063 - val_accuracy: 0.3333 - val_loss: 2.8153\n",
      "Epoch 8/70\n",
      "\u001b[1m1/1\u001b[0m \u001b[32m━━━━━━━━━━━━━━━━━━━━\u001b[0m\u001b[37m\u001b[0m \u001b[1m0s\u001b[0m 56ms/step - accuracy: 1.0000 - loss: 0.0050 - val_accuracy: 0.3333 - val_loss: 2.9283\n",
      "Epoch 9/70\n",
      "\u001b[1m1/1\u001b[0m \u001b[32m━━━━━━━━━━━━━━━━━━━━\u001b[0m\u001b[37m\u001b[0m \u001b[1m0s\u001b[0m 57ms/step - accuracy: 1.0000 - loss: 0.0039 - val_accuracy: 0.3333 - val_loss: 3.0768\n",
      "Epoch 10/70\n",
      "\u001b[1m1/1\u001b[0m \u001b[32m━━━━━━━━━━━━━━━━━━━━\u001b[0m\u001b[37m\u001b[0m \u001b[1m0s\u001b[0m 56ms/step - accuracy: 1.0000 - loss: 0.0029 - val_accuracy: 0.3333 - val_loss: 3.2467\n",
      "Epoch 11/70\n",
      "\u001b[1m1/1\u001b[0m \u001b[32m━━━━━━━━━━━━━━━━━━━━\u001b[0m\u001b[37m\u001b[0m \u001b[1m0s\u001b[0m 64ms/step - accuracy: 1.0000 - loss: 0.0022 - val_accuracy: 0.3333 - val_loss: 3.4265\n",
      "Epoch 12/70\n",
      "\u001b[1m1/1\u001b[0m \u001b[32m━━━━━━━━━━━━━━━━━━━━\u001b[0m\u001b[37m\u001b[0m \u001b[1m0s\u001b[0m 62ms/step - accuracy: 1.0000 - loss: 0.0016 - val_accuracy: 0.3333 - val_loss: 3.6086\n",
      "Epoch 13/70\n",
      "\u001b[1m1/1\u001b[0m \u001b[32m━━━━━━━━━━━━━━━━━━━━\u001b[0m\u001b[37m\u001b[0m \u001b[1m0s\u001b[0m 57ms/step - accuracy: 1.0000 - loss: 0.0012 - val_accuracy: 0.3333 - val_loss: 3.7879\n",
      "Epoch 14/70\n",
      "\u001b[1m1/1\u001b[0m \u001b[32m━━━━━━━━━━━━━━━━━━━━\u001b[0m\u001b[37m\u001b[0m \u001b[1m0s\u001b[0m 59ms/step - accuracy: 1.0000 - loss: 8.2823e-04 - val_accuracy: 0.3333 - val_loss: 3.9627\n",
      "Epoch 15/70\n",
      "\u001b[1m1/1\u001b[0m \u001b[32m━━━━━━━━━━━━━━━━━━━━\u001b[0m\u001b[37m\u001b[0m \u001b[1m0s\u001b[0m 83ms/step - accuracy: 1.0000 - loss: 5.9175e-04 - val_accuracy: 0.3333 - val_loss: 4.1309\n",
      "Epoch 16/70\n",
      "\u001b[1m1/1\u001b[0m \u001b[32m━━━━━━━━━━━━━━━━━━━━\u001b[0m\u001b[37m\u001b[0m \u001b[1m0s\u001b[0m 62ms/step - accuracy: 1.0000 - loss: 4.2133e-04 - val_accuracy: 0.3333 - val_loss: 4.2927\n",
      "Epoch 17/70\n",
      "\u001b[1m1/1\u001b[0m \u001b[32m━━━━━━━━━━━━━━━━━━━━\u001b[0m\u001b[37m\u001b[0m \u001b[1m0s\u001b[0m 57ms/step - accuracy: 1.0000 - loss: 2.9934e-04 - val_accuracy: 0.3333 - val_loss: 4.4477\n",
      "Epoch 18/70\n",
      "\u001b[1m1/1\u001b[0m \u001b[32m━━━━━━━━━━━━━━━━━━━━\u001b[0m\u001b[37m\u001b[0m \u001b[1m0s\u001b[0m 59ms/step - accuracy: 1.0000 - loss: 2.1253e-04 - val_accuracy: 0.3333 - val_loss: 4.5959\n",
      "Epoch 19/70\n",
      "\u001b[1m1/1\u001b[0m \u001b[32m━━━━━━━━━━━━━━━━━━━━\u001b[0m\u001b[37m\u001b[0m \u001b[1m0s\u001b[0m 59ms/step - accuracy: 1.0000 - loss: 1.5125e-04 - val_accuracy: 0.3333 - val_loss: 4.7367\n",
      "Epoch 20/70\n",
      "\u001b[1m1/1\u001b[0m \u001b[32m━━━━━━━━━━━━━━━━━━━━\u001b[0m\u001b[37m\u001b[0m \u001b[1m0s\u001b[0m 57ms/step - accuracy: 1.0000 - loss: 1.0808e-04 - val_accuracy: 0.3333 - val_loss: 4.8705\n",
      "Epoch 21/70\n",
      "\u001b[1m1/1\u001b[0m \u001b[32m━━━━━━━━━━━━━━━━━━━━\u001b[0m\u001b[37m\u001b[0m \u001b[1m0s\u001b[0m 61ms/step - accuracy: 1.0000 - loss: 7.7743e-05 - val_accuracy: 0.3333 - val_loss: 4.9953\n",
      "Epoch 22/70\n",
      "\u001b[1m1/1\u001b[0m \u001b[32m━━━━━━━━━━━━━━━━━━━━\u001b[0m\u001b[37m\u001b[0m \u001b[1m0s\u001b[0m 72ms/step - accuracy: 1.0000 - loss: 5.6378e-05 - val_accuracy: 0.3333 - val_loss: 5.1118\n",
      "Epoch 23/70\n",
      "\u001b[1m1/1\u001b[0m \u001b[32m━━━━━━━━━━━━━━━━━━━━\u001b[0m\u001b[37m\u001b[0m \u001b[1m0s\u001b[0m 64ms/step - accuracy: 1.0000 - loss: 4.1293e-05 - val_accuracy: 0.3333 - val_loss: 5.2222\n",
      "Epoch 24/70\n",
      "\u001b[1m1/1\u001b[0m \u001b[32m━━━━━━━━━━━━━━━━━━━━\u001b[0m\u001b[37m\u001b[0m \u001b[1m0s\u001b[0m 66ms/step - accuracy: 1.0000 - loss: 3.0583e-05 - val_accuracy: 0.3333 - val_loss: 5.3264\n",
      "Epoch 25/70\n",
      "\u001b[1m1/1\u001b[0m \u001b[32m━━━━━━━━━━━━━━━━━━━━\u001b[0m\u001b[37m\u001b[0m \u001b[1m0s\u001b[0m 56ms/step - accuracy: 1.0000 - loss: 2.2955e-05 - val_accuracy: 0.3333 - val_loss: 5.4249\n",
      "Epoch 26/70\n",
      "\u001b[1m1/1\u001b[0m \u001b[32m━━━━━━━━━━━━━━━━━━━━\u001b[0m\u001b[37m\u001b[0m \u001b[1m0s\u001b[0m 68ms/step - accuracy: 1.0000 - loss: 1.7455e-05 - val_accuracy: 0.3333 - val_loss: 5.5176\n",
      "Epoch 27/70\n",
      "\u001b[1m1/1\u001b[0m \u001b[32m━━━━━━━━━━━━━━━━━━━━\u001b[0m\u001b[37m\u001b[0m \u001b[1m0s\u001b[0m 58ms/step - accuracy: 1.0000 - loss: 1.3436e-05 - val_accuracy: 0.3333 - val_loss: 5.6045\n",
      "Epoch 28/70\n",
      "\u001b[1m1/1\u001b[0m \u001b[32m━━━━━━━━━━━━━━━━━━━━\u001b[0m\u001b[37m\u001b[0m \u001b[1m0s\u001b[0m 60ms/step - accuracy: 1.0000 - loss: 1.0507e-05 - val_accuracy: 0.3333 - val_loss: 5.6862\n",
      "Epoch 29/70\n",
      "\u001b[1m1/1\u001b[0m \u001b[32m━━━━━━━━━━━━━━━━━━━━\u001b[0m\u001b[37m\u001b[0m \u001b[1m0s\u001b[0m 61ms/step - accuracy: 1.0000 - loss: 8.3104e-06 - val_accuracy: 0.3333 - val_loss: 5.7628\n",
      "Epoch 30/70\n",
      "\u001b[1m1/1\u001b[0m \u001b[32m━━━━━━━━━━━━━━━━━━━━\u001b[0m\u001b[37m\u001b[0m \u001b[1m0s\u001b[0m 77ms/step - accuracy: 1.0000 - loss: 6.6586e-06 - val_accuracy: 0.3333 - val_loss: 5.8345\n",
      "Epoch 31/70\n",
      "\u001b[1m1/1\u001b[0m \u001b[32m━━━━━━━━━━━━━━━━━━━━\u001b[0m\u001b[37m\u001b[0m \u001b[1m0s\u001b[0m 60ms/step - accuracy: 1.0000 - loss: 5.4495e-06 - val_accuracy: 0.3333 - val_loss: 5.9013\n",
      "Epoch 32/70\n",
      "\u001b[1m1/1\u001b[0m \u001b[32m━━━━━━━━━━━━━━━━━━━━\u001b[0m\u001b[37m\u001b[0m \u001b[1m0s\u001b[0m 57ms/step - accuracy: 1.0000 - loss: 4.5299e-06 - val_accuracy: 0.3333 - val_loss: 5.9634\n",
      "Epoch 33/70\n",
      "\u001b[1m1/1\u001b[0m \u001b[32m━━━━━━━━━━━━━━━━━━━━\u001b[0m\u001b[37m\u001b[0m \u001b[1m0s\u001b[0m 65ms/step - accuracy: 1.0000 - loss: 3.7806e-06 - val_accuracy: 0.3333 - val_loss: 6.0212\n",
      "Epoch 34/70\n",
      "\u001b[1m1/1\u001b[0m \u001b[32m━━━━━━━━━━━━━━━━━━━━\u001b[0m\u001b[37m\u001b[0m \u001b[1m0s\u001b[0m 61ms/step - accuracy: 1.0000 - loss: 3.2016e-06 - val_accuracy: 0.3333 - val_loss: 6.0749\n",
      "Epoch 35/70\n",
      "\u001b[1m1/1\u001b[0m \u001b[32m━━━━━━━━━━━━━━━━━━━━\u001b[0m\u001b[37m\u001b[0m \u001b[1m0s\u001b[0m 59ms/step - accuracy: 1.0000 - loss: 2.7418e-06 - val_accuracy: 0.3333 - val_loss: 6.1246\n",
      "Epoch 36/70\n",
      "\u001b[1m1/1\u001b[0m \u001b[32m━━━━━━━━━━━━━━━━━━━━\u001b[0m\u001b[37m\u001b[0m \u001b[1m0s\u001b[0m 58ms/step - accuracy: 1.0000 - loss: 2.4012e-06 - val_accuracy: 0.3333 - val_loss: 6.1707\n",
      "Epoch 37/70\n",
      "\u001b[1m1/1\u001b[0m \u001b[32m━━━━━━━━━━━━━━━━━━━━\u001b[0m\u001b[37m\u001b[0m \u001b[1m0s\u001b[0m 62ms/step - accuracy: 1.0000 - loss: 2.0947e-06 - val_accuracy: 0.3333 - val_loss: 6.2133\n",
      "Epoch 38/70\n",
      "\u001b[1m1/1\u001b[0m \u001b[32m━━━━━━━━━━━━━━━━━━━━\u001b[0m\u001b[37m\u001b[0m \u001b[1m0s\u001b[0m 67ms/step - accuracy: 1.0000 - loss: 1.8733e-06 - val_accuracy: 0.3333 - val_loss: 6.2528\n",
      "Epoch 39/70\n",
      "\u001b[1m1/1\u001b[0m \u001b[32m━━━━━━━━━━━━━━━━━━━━\u001b[0m\u001b[37m\u001b[0m \u001b[1m0s\u001b[0m 59ms/step - accuracy: 1.0000 - loss: 1.7030e-06 - val_accuracy: 0.3333 - val_loss: 6.2894\n",
      "Epoch 40/70\n",
      "\u001b[1m1/1\u001b[0m \u001b[32m━━━━━━━━━━━━━━━━━━━━\u001b[0m\u001b[37m\u001b[0m \u001b[1m0s\u001b[0m 61ms/step - accuracy: 1.0000 - loss: 1.5157e-06 - val_accuracy: 0.3333 - val_loss: 6.3233\n",
      "Epoch 41/70\n",
      "\u001b[1m1/1\u001b[0m \u001b[32m━━━━━━━━━━━━━━━━━━━━\u001b[0m\u001b[37m\u001b[0m \u001b[1m0s\u001b[0m 63ms/step - accuracy: 1.0000 - loss: 1.3964e-06 - val_accuracy: 0.3333 - val_loss: 6.3547\n",
      "Epoch 42/70\n",
      "\u001b[1m1/1\u001b[0m \u001b[32m━━━━━━━━━━━━━━━━━━━━\u001b[0m\u001b[37m\u001b[0m \u001b[1m0s\u001b[0m 63ms/step - accuracy: 1.0000 - loss: 1.2602e-06 - val_accuracy: 0.3333 - val_loss: 6.3837\n",
      "Epoch 43/70\n",
      "\u001b[1m1/1\u001b[0m \u001b[32m━━━━━━━━━━━━━━━━━━━━\u001b[0m\u001b[37m\u001b[0m \u001b[1m0s\u001b[0m 59ms/step - accuracy: 1.0000 - loss: 1.1751e-06 - val_accuracy: 0.3333 - val_loss: 6.4106\n",
      "Epoch 44/70\n",
      "\u001b[1m1/1\u001b[0m \u001b[32m━━━━━━━━━━━━━━━━━━━━\u001b[0m\u001b[37m\u001b[0m \u001b[1m0s\u001b[0m 60ms/step - accuracy: 1.0000 - loss: 1.1069e-06 - val_accuracy: 0.3333 - val_loss: 6.4355\n",
      "Epoch 45/70\n",
      "\u001b[1m1/1\u001b[0m \u001b[32m━━━━━━━━━━━━━━━━━━━━\u001b[0m\u001b[37m\u001b[0m \u001b[1m0s\u001b[0m 60ms/step - accuracy: 1.0000 - loss: 1.0218e-06 - val_accuracy: 0.3333 - val_loss: 6.4584\n",
      "Epoch 46/70\n",
      "\u001b[1m1/1\u001b[0m \u001b[32m━━━━━━━━━━━━━━━━━━━━\u001b[0m\u001b[37m\u001b[0m \u001b[1m0s\u001b[0m 60ms/step - accuracy: 1.0000 - loss: 9.5367e-07 - val_accuracy: 0.3333 - val_loss: 6.4797\n",
      "Epoch 47/70\n",
      "\u001b[1m1/1\u001b[0m \u001b[32m━━━━━━━━━━━━━━━━━━━━\u001b[0m\u001b[37m\u001b[0m \u001b[1m0s\u001b[0m 59ms/step - accuracy: 1.0000 - loss: 9.1961e-07 - val_accuracy: 0.3333 - val_loss: 6.4993\n",
      "Epoch 48/70\n",
      "\u001b[1m1/1\u001b[0m \u001b[32m━━━━━━━━━━━━━━━━━━━━\u001b[0m\u001b[37m\u001b[0m \u001b[1m0s\u001b[0m 67ms/step - accuracy: 1.0000 - loss: 8.6852e-07 - val_accuracy: 0.3333 - val_loss: 6.5175\n",
      "Epoch 49/70\n",
      "\u001b[1m1/1\u001b[0m \u001b[32m━━━━━━━━━━━━━━━━━━━━\u001b[0m\u001b[37m\u001b[0m \u001b[1m0s\u001b[0m 62ms/step - accuracy: 1.0000 - loss: 8.3446e-07 - val_accuracy: 0.3333 - val_loss: 6.5344\n",
      "Epoch 50/70\n",
      "\u001b[1m1/1\u001b[0m \u001b[32m━━━━━━━━━━━━━━━━━━━━\u001b[0m\u001b[37m\u001b[0m \u001b[1m0s\u001b[0m 61ms/step - accuracy: 1.0000 - loss: 8.0040e-07 - val_accuracy: 0.3333 - val_loss: 6.5501\n",
      "Epoch 51/70\n",
      "\u001b[1m1/1\u001b[0m \u001b[32m━━━━━━━━━━━━━━━━━━━━\u001b[0m\u001b[37m\u001b[0m \u001b[1m0s\u001b[0m 58ms/step - accuracy: 1.0000 - loss: 7.6634e-07 - val_accuracy: 0.3333 - val_loss: 6.5647\n",
      "Epoch 52/70\n",
      "\u001b[1m1/1\u001b[0m \u001b[32m━━━━━━━━━━━━━━━━━━━━\u001b[0m\u001b[37m\u001b[0m \u001b[1m0s\u001b[0m 62ms/step - accuracy: 1.0000 - loss: 7.4931e-07 - val_accuracy: 0.3333 - val_loss: 6.5782\n",
      "Epoch 53/70\n",
      "\u001b[1m1/1\u001b[0m \u001b[32m━━━━━━━━━━━━━━━━━━━━\u001b[0m\u001b[37m\u001b[0m \u001b[1m0s\u001b[0m 58ms/step - accuracy: 1.0000 - loss: 7.1525e-07 - val_accuracy: 0.3333 - val_loss: 6.5908\n",
      "Epoch 54/70\n",
      "\u001b[1m1/1\u001b[0m \u001b[32m━━━━━━━━━━━━━━━━━━━━\u001b[0m\u001b[37m\u001b[0m \u001b[1m0s\u001b[0m 63ms/step - accuracy: 1.0000 - loss: 6.9822e-07 - val_accuracy: 0.3333 - val_loss: 6.6025\n",
      "Epoch 55/70\n",
      "\u001b[1m1/1\u001b[0m \u001b[32m━━━━━━━━━━━━━━━━━━━━\u001b[0m\u001b[37m\u001b[0m \u001b[1m0s\u001b[0m 65ms/step - accuracy: 1.0000 - loss: 6.8120e-07 - val_accuracy: 0.3333 - val_loss: 6.6135\n",
      "Epoch 56/70\n",
      "\u001b[1m1/1\u001b[0m \u001b[32m━━━━━━━━━━━━━━━━━━━━\u001b[0m\u001b[37m\u001b[0m \u001b[1m0s\u001b[0m 58ms/step - accuracy: 1.0000 - loss: 6.8120e-07 - val_accuracy: 0.3333 - val_loss: 6.6237\n",
      "Epoch 57/70\n",
      "\u001b[1m1/1\u001b[0m \u001b[32m━━━━━━━━━━━━━━━━━━━━\u001b[0m\u001b[37m\u001b[0m \u001b[1m0s\u001b[0m 62ms/step - accuracy: 1.0000 - loss: 6.4714e-07 - val_accuracy: 0.3333 - val_loss: 6.6333\n",
      "Epoch 58/70\n",
      "\u001b[1m1/1\u001b[0m \u001b[32m━━━━━━━━━━━━━━━━━━━━\u001b[0m\u001b[37m\u001b[0m \u001b[1m0s\u001b[0m 64ms/step - accuracy: 1.0000 - loss: 6.3011e-07 - val_accuracy: 0.3333 - val_loss: 6.6423\n",
      "Epoch 59/70\n",
      "\u001b[1m1/1\u001b[0m \u001b[32m━━━━━━━━━━━━━━━━━━━━\u001b[0m\u001b[37m\u001b[0m \u001b[1m0s\u001b[0m 62ms/step - accuracy: 1.0000 - loss: 6.3011e-07 - val_accuracy: 0.3333 - val_loss: 6.6508\n",
      "Epoch 60/70\n",
      "\u001b[1m1/1\u001b[0m \u001b[32m━━━━━━━━━━━━━━━━━━━━\u001b[0m\u001b[37m\u001b[0m \u001b[1m0s\u001b[0m 70ms/step - accuracy: 1.0000 - loss: 6.1308e-07 - val_accuracy: 0.3333 - val_loss: 6.6587\n",
      "Epoch 61/70\n",
      "\u001b[1m1/1\u001b[0m \u001b[32m━━━━━━━━━━━━━━━━━━━━\u001b[0m\u001b[37m\u001b[0m \u001b[1m0s\u001b[0m 68ms/step - accuracy: 1.0000 - loss: 5.9605e-07 - val_accuracy: 0.3333 - val_loss: 6.6662\n",
      "Epoch 62/70\n",
      "\u001b[1m1/1\u001b[0m \u001b[32m━━━━━━━━━━━━━━━━━━━━\u001b[0m\u001b[37m\u001b[0m \u001b[1m0s\u001b[0m 62ms/step - accuracy: 1.0000 - loss: 5.7902e-07 - val_accuracy: 0.3333 - val_loss: 6.6732\n",
      "Epoch 63/70\n",
      "\u001b[1m1/1\u001b[0m \u001b[32m━━━━━━━━━━━━━━━━━━━━\u001b[0m\u001b[37m\u001b[0m \u001b[1m0s\u001b[0m 62ms/step - accuracy: 1.0000 - loss: 5.6199e-07 - val_accuracy: 0.3333 - val_loss: 6.6798\n",
      "Epoch 64/70\n",
      "\u001b[1m1/1\u001b[0m \u001b[32m━━━━━━━━━━━━━━━━━━━━\u001b[0m\u001b[37m\u001b[0m \u001b[1m0s\u001b[0m 58ms/step - accuracy: 1.0000 - loss: 5.6199e-07 - val_accuracy: 0.3333 - val_loss: 6.6861\n",
      "Epoch 65/70\n",
      "\u001b[1m1/1\u001b[0m \u001b[32m━━━━━━━━━━━━━━━━━━━━\u001b[0m\u001b[37m\u001b[0m \u001b[1m0s\u001b[0m 63ms/step - accuracy: 1.0000 - loss: 5.6199e-07 - val_accuracy: 0.3333 - val_loss: 6.6920\n",
      "Epoch 66/70\n",
      "\u001b[1m1/1\u001b[0m \u001b[32m━━━━━━━━━━━━━━━━━━━━\u001b[0m\u001b[37m\u001b[0m \u001b[1m0s\u001b[0m 61ms/step - accuracy: 1.0000 - loss: 5.6199e-07 - val_accuracy: 0.3333 - val_loss: 6.6977\n",
      "Epoch 67/70\n",
      "\u001b[1m1/1\u001b[0m \u001b[32m━━━━━━━━━━━━━━━━━━━━\u001b[0m\u001b[37m\u001b[0m \u001b[1m0s\u001b[0m 70ms/step - accuracy: 1.0000 - loss: 5.4496e-07 - val_accuracy: 0.3333 - val_loss: 6.7031\n",
      "Epoch 68/70\n",
      "\u001b[1m1/1\u001b[0m \u001b[32m━━━━━━━━━━━━━━━━━━━━\u001b[0m\u001b[37m\u001b[0m \u001b[1m0s\u001b[0m 58ms/step - accuracy: 1.0000 - loss: 5.4496e-07 - val_accuracy: 0.3333 - val_loss: 6.7082\n",
      "Epoch 69/70\n",
      "\u001b[1m1/1\u001b[0m \u001b[32m━━━━━━━━━━━━━━━━━━━━\u001b[0m\u001b[37m\u001b[0m \u001b[1m0s\u001b[0m 62ms/step - accuracy: 1.0000 - loss: 5.4496e-07 - val_accuracy: 0.3333 - val_loss: 6.7131\n",
      "Epoch 70/70\n",
      "\u001b[1m1/1\u001b[0m \u001b[32m━━━━━━━━━━━━━━━━━━━━\u001b[0m\u001b[37m\u001b[0m \u001b[1m0s\u001b[0m 65ms/step - accuracy: 1.0000 - loss: 5.2793e-07 - val_accuracy: 0.3333 - val_loss: 6.7178\n"
     ]
    }
   ],
   "source": [
    "#now let's train\n",
    "history=model_lstm.fit(X_train,y_train,epochs=70, validation_data=(X_test,y_test))"
   ]
  },
  {
   "cell_type": "code",
   "execution_count": 56,
   "id": "75888b7d",
   "metadata": {},
   "outputs": [
    {
     "name": "stdout",
     "output_type": "stream",
     "text": [
      "Epoch 1/80\n",
      "\u001b[1m1/1\u001b[0m \u001b[32m━━━━━━━━━━━━━━━━━━━━\u001b[0m\u001b[37m\u001b[0m \u001b[1m0s\u001b[0m 89ms/step - accuracy: 1.0000 - loss: 5.2793e-07 - val_accuracy: 0.3333 - val_loss: 6.7224\n",
      "Epoch 2/80\n",
      "\u001b[1m1/1\u001b[0m \u001b[32m━━━━━━━━━━━━━━━━━━━━\u001b[0m\u001b[37m\u001b[0m \u001b[1m0s\u001b[0m 66ms/step - accuracy: 1.0000 - loss: 5.2793e-07 - val_accuracy: 0.3333 - val_loss: 6.7267\n",
      "Epoch 3/80\n",
      "\u001b[1m1/1\u001b[0m \u001b[32m━━━━━━━━━━━━━━━━━━━━\u001b[0m\u001b[37m\u001b[0m \u001b[1m0s\u001b[0m 60ms/step - accuracy: 1.0000 - loss: 5.1090e-07 - val_accuracy: 0.3333 - val_loss: 6.7309\n",
      "Epoch 4/80\n",
      "\u001b[1m1/1\u001b[0m \u001b[32m━━━━━━━━━━━━━━━━━━━━\u001b[0m\u001b[37m\u001b[0m \u001b[1m0s\u001b[0m 58ms/step - accuracy: 1.0000 - loss: 5.1090e-07 - val_accuracy: 0.3333 - val_loss: 6.7349\n",
      "Epoch 5/80\n",
      "\u001b[1m1/1\u001b[0m \u001b[32m━━━━━━━━━━━━━━━━━━━━\u001b[0m\u001b[37m\u001b[0m \u001b[1m0s\u001b[0m 59ms/step - accuracy: 1.0000 - loss: 5.1090e-07 - val_accuracy: 0.3333 - val_loss: 6.7388\n",
      "Epoch 6/80\n",
      "\u001b[1m1/1\u001b[0m \u001b[32m━━━━━━━━━━━━━━━━━━━━\u001b[0m\u001b[37m\u001b[0m \u001b[1m0s\u001b[0m 61ms/step - accuracy: 1.0000 - loss: 5.1090e-07 - val_accuracy: 0.3333 - val_loss: 6.7425\n",
      "Epoch 7/80\n",
      "\u001b[1m1/1\u001b[0m \u001b[32m━━━━━━━━━━━━━━━━━━━━\u001b[0m\u001b[37m\u001b[0m \u001b[1m0s\u001b[0m 63ms/step - accuracy: 1.0000 - loss: 5.1090e-07 - val_accuracy: 0.3333 - val_loss: 6.7462\n",
      "Epoch 8/80\n",
      "\u001b[1m1/1\u001b[0m \u001b[32m━━━━━━━━━━━━━━━━━━━━\u001b[0m\u001b[37m\u001b[0m \u001b[1m0s\u001b[0m 67ms/step - accuracy: 1.0000 - loss: 5.1090e-07 - val_accuracy: 0.3333 - val_loss: 6.7498\n",
      "Epoch 9/80\n",
      "\u001b[1m1/1\u001b[0m \u001b[32m━━━━━━━━━━━━━━━━━━━━\u001b[0m\u001b[37m\u001b[0m \u001b[1m0s\u001b[0m 59ms/step - accuracy: 1.0000 - loss: 5.1090e-07 - val_accuracy: 0.3333 - val_loss: 6.7532\n",
      "Epoch 10/80\n",
      "\u001b[1m1/1\u001b[0m \u001b[32m━━━━━━━━━━━━━━━━━━━━\u001b[0m\u001b[37m\u001b[0m \u001b[1m0s\u001b[0m 61ms/step - accuracy: 1.0000 - loss: 5.1090e-07 - val_accuracy: 0.3333 - val_loss: 6.7566\n",
      "Epoch 11/80\n",
      "\u001b[1m1/1\u001b[0m \u001b[32m━━━━━━━━━━━━━━━━━━━━\u001b[0m\u001b[37m\u001b[0m \u001b[1m0s\u001b[0m 62ms/step - accuracy: 1.0000 - loss: 5.1090e-07 - val_accuracy: 0.3333 - val_loss: 6.7600\n",
      "Epoch 12/80\n",
      "\u001b[1m1/1\u001b[0m \u001b[32m━━━━━━━━━━━━━━━━━━━━\u001b[0m\u001b[37m\u001b[0m \u001b[1m0s\u001b[0m 70ms/step - accuracy: 1.0000 - loss: 5.1090e-07 - val_accuracy: 0.3333 - val_loss: 6.7632\n",
      "Epoch 13/80\n",
      "\u001b[1m1/1\u001b[0m \u001b[32m━━━━━━━━━━━━━━━━━━━━\u001b[0m\u001b[37m\u001b[0m \u001b[1m0s\u001b[0m 58ms/step - accuracy: 1.0000 - loss: 4.9387e-07 - val_accuracy: 0.3333 - val_loss: 6.7664\n",
      "Epoch 14/80\n",
      "\u001b[1m1/1\u001b[0m \u001b[32m━━━━━━━━━━━━━━━━━━━━\u001b[0m\u001b[37m\u001b[0m \u001b[1m0s\u001b[0m 58ms/step - accuracy: 1.0000 - loss: 4.9387e-07 - val_accuracy: 0.3333 - val_loss: 6.7695\n",
      "Epoch 15/80\n",
      "\u001b[1m1/1\u001b[0m \u001b[32m━━━━━━━━━━━━━━━━━━━━\u001b[0m\u001b[37m\u001b[0m \u001b[1m0s\u001b[0m 70ms/step - accuracy: 1.0000 - loss: 4.7684e-07 - val_accuracy: 0.3333 - val_loss: 6.7725\n",
      "Epoch 16/80\n",
      "\u001b[1m1/1\u001b[0m \u001b[32m━━━━━━━━━━━━━━━━━━━━\u001b[0m\u001b[37m\u001b[0m \u001b[1m0s\u001b[0m 68ms/step - accuracy: 1.0000 - loss: 4.7684e-07 - val_accuracy: 0.3333 - val_loss: 6.7755\n",
      "Epoch 17/80\n",
      "\u001b[1m1/1\u001b[0m \u001b[32m━━━━━━━━━━━━━━━━━━━━\u001b[0m\u001b[37m\u001b[0m \u001b[1m0s\u001b[0m 62ms/step - accuracy: 1.0000 - loss: 4.7684e-07 - val_accuracy: 0.3333 - val_loss: 6.7784\n",
      "Epoch 18/80\n",
      "\u001b[1m1/1\u001b[0m \u001b[32m━━━━━━━━━━━━━━━━━━━━\u001b[0m\u001b[37m\u001b[0m \u001b[1m0s\u001b[0m 65ms/step - accuracy: 1.0000 - loss: 4.7684e-07 - val_accuracy: 0.3333 - val_loss: 6.7813\n",
      "Epoch 19/80\n",
      "\u001b[1m1/1\u001b[0m \u001b[32m━━━━━━━━━━━━━━━━━━━━\u001b[0m\u001b[37m\u001b[0m \u001b[1m0s\u001b[0m 61ms/step - accuracy: 1.0000 - loss: 4.7684e-07 - val_accuracy: 0.3333 - val_loss: 6.7842\n",
      "Epoch 20/80\n",
      "\u001b[1m1/1\u001b[0m \u001b[32m━━━━━━━━━━━━━━━━━━━━\u001b[0m\u001b[37m\u001b[0m \u001b[1m0s\u001b[0m 72ms/step - accuracy: 1.0000 - loss: 4.7684e-07 - val_accuracy: 0.3333 - val_loss: 6.7870\n",
      "Epoch 21/80\n",
      "\u001b[1m1/1\u001b[0m \u001b[32m━━━━━━━━━━━━━━━━━━━━\u001b[0m\u001b[37m\u001b[0m \u001b[1m0s\u001b[0m 58ms/step - accuracy: 1.0000 - loss: 4.7684e-07 - val_accuracy: 0.3333 - val_loss: 6.7897\n",
      "Epoch 22/80\n",
      "\u001b[1m1/1\u001b[0m \u001b[32m━━━━━━━━━━━━━━━━━━━━\u001b[0m\u001b[37m\u001b[0m \u001b[1m0s\u001b[0m 59ms/step - accuracy: 1.0000 - loss: 4.7684e-07 - val_accuracy: 0.3333 - val_loss: 6.7925\n",
      "Epoch 23/80\n",
      "\u001b[1m1/1\u001b[0m \u001b[32m━━━━━━━━━━━━━━━━━━━━\u001b[0m\u001b[37m\u001b[0m \u001b[1m0s\u001b[0m 63ms/step - accuracy: 1.0000 - loss: 4.7684e-07 - val_accuracy: 0.3333 - val_loss: 6.7952\n",
      "Epoch 24/80\n",
      "\u001b[1m1/1\u001b[0m \u001b[32m━━━━━━━━━━━━━━━━━━━━\u001b[0m\u001b[37m\u001b[0m \u001b[1m0s\u001b[0m 84ms/step - accuracy: 1.0000 - loss: 4.7684e-07 - val_accuracy: 0.3333 - val_loss: 6.7978\n",
      "Epoch 25/80\n",
      "\u001b[1m1/1\u001b[0m \u001b[32m━━━━━━━━━━━━━━━━━━━━\u001b[0m\u001b[37m\u001b[0m \u001b[1m0s\u001b[0m 63ms/step - accuracy: 1.0000 - loss: 4.7684e-07 - val_accuracy: 0.3333 - val_loss: 6.8005\n",
      "Epoch 26/80\n",
      "\u001b[1m1/1\u001b[0m \u001b[32m━━━━━━━━━━━━━━━━━━━━\u001b[0m\u001b[37m\u001b[0m \u001b[1m0s\u001b[0m 63ms/step - accuracy: 1.0000 - loss: 4.7684e-07 - val_accuracy: 0.3333 - val_loss: 6.8031\n",
      "Epoch 27/80\n",
      "\u001b[1m1/1\u001b[0m \u001b[32m━━━━━━━━━━━━━━━━━━━━\u001b[0m\u001b[37m\u001b[0m \u001b[1m0s\u001b[0m 63ms/step - accuracy: 1.0000 - loss: 4.7684e-07 - val_accuracy: 0.3333 - val_loss: 6.8057\n",
      "Epoch 28/80\n",
      "\u001b[1m1/1\u001b[0m \u001b[32m━━━━━━━━━━━━━━━━━━━━\u001b[0m\u001b[37m\u001b[0m \u001b[1m0s\u001b[0m 63ms/step - accuracy: 1.0000 - loss: 4.7684e-07 - val_accuracy: 0.3333 - val_loss: 6.8083\n",
      "Epoch 29/80\n",
      "\u001b[1m1/1\u001b[0m \u001b[32m━━━━━━━━━━━━━━━━━━━━\u001b[0m\u001b[37m\u001b[0m \u001b[1m0s\u001b[0m 63ms/step - accuracy: 1.0000 - loss: 4.7684e-07 - val_accuracy: 0.3333 - val_loss: 6.8109\n",
      "Epoch 30/80\n",
      "\u001b[1m1/1\u001b[0m \u001b[32m━━━━━━━━━━━━━━━━━━━━\u001b[0m\u001b[37m\u001b[0m \u001b[1m0s\u001b[0m 62ms/step - accuracy: 1.0000 - loss: 4.7684e-07 - val_accuracy: 0.3333 - val_loss: 6.8135\n",
      "Epoch 31/80\n",
      "\u001b[1m1/1\u001b[0m \u001b[32m━━━━━━━━━━━━━━━━━━━━\u001b[0m\u001b[37m\u001b[0m \u001b[1m0s\u001b[0m 56ms/step - accuracy: 1.0000 - loss: 4.5981e-07 - val_accuracy: 0.3333 - val_loss: 6.8160\n"
     ]
    }
   ],
   "source": [
    "#utilising Early stopping\n",
    "from keras.callbacks import EarlyStopping\n",
    "\n",
    "early_stop = EarlyStopping(\n",
    "    monitor='val_accuracy',   # or 'val_loss' depending on what you care about\n",
    "    patience=30,           # number of epochs to wait after no improvement\n",
    "    restore_best_weights=True\n",
    ")\n",
    "\n",
    "history = model_lstm.fit(\n",
    "    X_train, y_train,\n",
    "    epochs=80,\n",
    "    validation_data=(X_test, y_test),\n",
    "    callbacks=[early_stop]\n",
    ")\n"
   ]
  },
  {
   "cell_type": "code",
   "execution_count": 57,
   "id": "0aae65ef",
   "metadata": {},
   "outputs": [
    {
     "name": "stdout",
     "output_type": "stream",
     "text": [
      "\u001b[1m1/1\u001b[0m \u001b[32m━━━━━━━━━━━━━━━━━━━━\u001b[0m\u001b[37m\u001b[0m \u001b[1m0s\u001b[0m 22ms/step\n"
     ]
    }
   ],
   "source": [
    "pred=model_lstm.predict(X_test)"
   ]
  },
  {
   "cell_type": "code",
   "execution_count": 58,
   "id": "ef121fdc",
   "metadata": {},
   "outputs": [
    {
     "data": {
      "text/plain": [
       "array([[9.9996138e-01, 3.8566726e-05],\n",
       "       [9.9996555e-01, 3.4474138e-05],\n",
       "       [5.0591618e-05, 9.9994946e-01]], dtype=float32)"
      ]
     },
     "execution_count": 58,
     "metadata": {},
     "output_type": "execute_result"
    }
   ],
   "source": [
    "pred"
   ]
  },
  {
   "cell_type": "code",
   "execution_count": 59,
   "id": "4dc214fd",
   "metadata": {},
   "outputs": [
    {
     "name": "stdout",
     "output_type": "stream",
     "text": [
      "   accuracy          loss  val_accuracy  val_loss\n",
      "0       1.0  5.279263e-07      0.333333  6.722355\n",
      "1       1.0  5.279263e-07      0.333333  6.726688\n",
      "2       1.0  5.108964e-07      0.333333  6.730856\n",
      "3       1.0  5.108964e-07      0.333333  6.734880\n",
      "4       1.0  5.108964e-07      0.333333  6.738773\n"
     ]
    }
   ],
   "source": [
    "history_df = pd.DataFrame(history.history)\n",
    "print(history_df.head())\n"
   ]
  },
  {
   "cell_type": "code",
   "execution_count": 55,
   "id": "c9ca4515",
   "metadata": {},
   "outputs": [
    {
     "data": {
      "text/html": [
       "<pre style=\"white-space:pre;overflow-x:auto;line-height:normal;font-family:Menlo,'DejaVu Sans Mono',consolas,'Courier New',monospace\"><span style=\"font-weight: bold\">Model: \"sequential_2\"</span>\n",
       "</pre>\n"
      ],
      "text/plain": [
       "\u001b[1mModel: \"sequential_2\"\u001b[0m\n"
      ]
     },
     "metadata": {},
     "output_type": "display_data"
    },
    {
     "data": {
      "text/html": [
       "<pre style=\"white-space:pre;overflow-x:auto;line-height:normal;font-family:Menlo,'DejaVu Sans Mono',consolas,'Courier New',monospace\">┏━━━━━━━━━━━━━━━━━━━━━━━━━━━━━━━━━┳━━━━━━━━━━━━━━━━━━━━━━━━┳━━━━━━━━━━━━━━━┓\n",
       "┃<span style=\"font-weight: bold\"> Layer (type)                    </span>┃<span style=\"font-weight: bold\"> Output Shape           </span>┃<span style=\"font-weight: bold\">       Param # </span>┃\n",
       "┡━━━━━━━━━━━━━━━━━━━━━━━━━━━━━━━━━╇━━━━━━━━━━━━━━━━━━━━━━━━╇━━━━━━━━━━━━━━━┩\n",
       "│ embedding_2 (<span style=\"color: #0087ff; text-decoration-color: #0087ff\">Embedding</span>)         │ (<span style=\"color: #00d7ff; text-decoration-color: #00d7ff\">None</span>, <span style=\"color: #00af00; text-decoration-color: #00af00\">11</span>, <span style=\"color: #00af00; text-decoration-color: #00af00\">2</span>)          │           <span style=\"color: #00af00; text-decoration-color: #00af00\">120</span> │\n",
       "├─────────────────────────────────┼────────────────────────┼───────────────┤\n",
       "│ lstm_2 (<span style=\"color: #0087ff; text-decoration-color: #0087ff\">LSTM</span>)                   │ (<span style=\"color: #00d7ff; text-decoration-color: #00d7ff\">None</span>, <span style=\"color: #00af00; text-decoration-color: #00af00\">64</span>)             │        <span style=\"color: #00af00; text-decoration-color: #00af00\">17,152</span> │\n",
       "├─────────────────────────────────┼────────────────────────┼───────────────┤\n",
       "│ dense_3 (<span style=\"color: #0087ff; text-decoration-color: #0087ff\">Dense</span>)                 │ (<span style=\"color: #00d7ff; text-decoration-color: #00d7ff\">None</span>, <span style=\"color: #00af00; text-decoration-color: #00af00\">128</span>)            │         <span style=\"color: #00af00; text-decoration-color: #00af00\">8,320</span> │\n",
       "├─────────────────────────────────┼────────────────────────┼───────────────┤\n",
       "│ dense_4 (<span style=\"color: #0087ff; text-decoration-color: #0087ff\">Dense</span>)                 │ (<span style=\"color: #00d7ff; text-decoration-color: #00d7ff\">None</span>, <span style=\"color: #00af00; text-decoration-color: #00af00\">2</span>)              │           <span style=\"color: #00af00; text-decoration-color: #00af00\">258</span> │\n",
       "└─────────────────────────────────┴────────────────────────┴───────────────┘\n",
       "</pre>\n"
      ],
      "text/plain": [
       "┏━━━━━━━━━━━━━━━━━━━━━━━━━━━━━━━━━┳━━━━━━━━━━━━━━━━━━━━━━━━┳━━━━━━━━━━━━━━━┓\n",
       "┃\u001b[1m \u001b[0m\u001b[1mLayer (type)                   \u001b[0m\u001b[1m \u001b[0m┃\u001b[1m \u001b[0m\u001b[1mOutput Shape          \u001b[0m\u001b[1m \u001b[0m┃\u001b[1m \u001b[0m\u001b[1m      Param #\u001b[0m\u001b[1m \u001b[0m┃\n",
       "┡━━━━━━━━━━━━━━━━━━━━━━━━━━━━━━━━━╇━━━━━━━━━━━━━━━━━━━━━━━━╇━━━━━━━━━━━━━━━┩\n",
       "│ embedding_2 (\u001b[38;5;33mEmbedding\u001b[0m)         │ (\u001b[38;5;45mNone\u001b[0m, \u001b[38;5;34m11\u001b[0m, \u001b[38;5;34m2\u001b[0m)          │           \u001b[38;5;34m120\u001b[0m │\n",
       "├─────────────────────────────────┼────────────────────────┼───────────────┤\n",
       "│ lstm_2 (\u001b[38;5;33mLSTM\u001b[0m)                   │ (\u001b[38;5;45mNone\u001b[0m, \u001b[38;5;34m64\u001b[0m)             │        \u001b[38;5;34m17,152\u001b[0m │\n",
       "├─────────────────────────────────┼────────────────────────┼───────────────┤\n",
       "│ dense_3 (\u001b[38;5;33mDense\u001b[0m)                 │ (\u001b[38;5;45mNone\u001b[0m, \u001b[38;5;34m128\u001b[0m)            │         \u001b[38;5;34m8,320\u001b[0m │\n",
       "├─────────────────────────────────┼────────────────────────┼───────────────┤\n",
       "│ dense_4 (\u001b[38;5;33mDense\u001b[0m)                 │ (\u001b[38;5;45mNone\u001b[0m, \u001b[38;5;34m2\u001b[0m)              │           \u001b[38;5;34m258\u001b[0m │\n",
       "└─────────────────────────────────┴────────────────────────┴───────────────┘\n"
      ]
     },
     "metadata": {},
     "output_type": "display_data"
    },
    {
     "data": {
      "text/html": [
       "<pre style=\"white-space:pre;overflow-x:auto;line-height:normal;font-family:Menlo,'DejaVu Sans Mono',consolas,'Courier New',monospace\"><span style=\"font-weight: bold\"> Total params: </span><span style=\"color: #00af00; text-decoration-color: #00af00\">77,552</span> (302.94 KB)\n",
       "</pre>\n"
      ],
      "text/plain": [
       "\u001b[1m Total params: \u001b[0m\u001b[38;5;34m77,552\u001b[0m (302.94 KB)\n"
      ]
     },
     "metadata": {},
     "output_type": "display_data"
    },
    {
     "data": {
      "text/html": [
       "<pre style=\"white-space:pre;overflow-x:auto;line-height:normal;font-family:Menlo,'DejaVu Sans Mono',consolas,'Courier New',monospace\"><span style=\"font-weight: bold\"> Trainable params: </span><span style=\"color: #00af00; text-decoration-color: #00af00\">25,850</span> (100.98 KB)\n",
       "</pre>\n"
      ],
      "text/plain": [
       "\u001b[1m Trainable params: \u001b[0m\u001b[38;5;34m25,850\u001b[0m (100.98 KB)\n"
      ]
     },
     "metadata": {},
     "output_type": "display_data"
    },
    {
     "data": {
      "text/html": [
       "<pre style=\"white-space:pre;overflow-x:auto;line-height:normal;font-family:Menlo,'DejaVu Sans Mono',consolas,'Courier New',monospace\"><span style=\"font-weight: bold\"> Non-trainable params: </span><span style=\"color: #00af00; text-decoration-color: #00af00\">0</span> (0.00 B)\n",
       "</pre>\n"
      ],
      "text/plain": [
       "\u001b[1m Non-trainable params: \u001b[0m\u001b[38;5;34m0\u001b[0m (0.00 B)\n"
      ]
     },
     "metadata": {},
     "output_type": "display_data"
    },
    {
     "data": {
      "text/html": [
       "<pre style=\"white-space:pre;overflow-x:auto;line-height:normal;font-family:Menlo,'DejaVu Sans Mono',consolas,'Courier New',monospace\"><span style=\"font-weight: bold\"> Optimizer params: </span><span style=\"color: #00af00; text-decoration-color: #00af00\">51,702</span> (201.96 KB)\n",
       "</pre>\n"
      ],
      "text/plain": [
       "\u001b[1m Optimizer params: \u001b[0m\u001b[38;5;34m51,702\u001b[0m (201.96 KB)\n"
      ]
     },
     "metadata": {},
     "output_type": "display_data"
    }
   ],
   "source": [
    "model_lstm.summary()"
   ]
  },
  {
   "cell_type": "code",
   "execution_count": 46,
   "id": "670fd541",
   "metadata": {},
   "outputs": [
    {
     "data": {
      "image/png": "[encoded data removed]",
      "text/plain": [
       "<Figure size 1000x500 with 2 Axes>"
      ]
     },
     "metadata": {},
     "output_type": "display_data"
    }
   ],
   "source": [
    "import matplotlib.pyplot as plt\n",
    "# Plot Accuracy & Loss\n",
    "plt.figure(figsize=(10,5))\n",
    "# Accuracy\n",
    "plt.subplot(1,2,1)\n",
    "plt.plot(history.history['accuracy'], label='Train Accuracy')\n",
    "plt.plot(history.history['val_accuracy'], label='Val Accuracy')\n",
    "plt.legend()\n",
    "plt.title('Accuracy')\n",
    "# Loss\n",
    "plt.subplot(1,2,2)\n",
    "plt.plot(history.history['loss'], label='Train Loss')\n",
    "plt.plot(history.history['val_loss'], label='Val Loss')\n",
    "plt.legend()\n",
    "plt.title('Loss')\n",
    "plt.show()"
   ]
  },
  {
   "cell_type": "code",
   "execution_count": null,
   "id": "f1063972",
   "metadata": {},
   "outputs": [],
   "source": [
    "#to extract Dense embedding outcome of this model\n",
    "embedding_layer = model_lstm.layers[0]  \n",
    "# first layer is the Embedding layer"
   ]
  },
  {
   "cell_type": "code",
   "execution_count": null,
   "id": "97273010",
   "metadata": {},
   "outputs": [],
   "source": [
    "#weights of layers 0 are vectors of size 2 for each word\n",
    "embedding_weights = embedding_layer.get_weights()[0]  # shape will be (60, 2)"
   ]
  },
  {
   "cell_type": "code",
   "execution_count": 67,
   "id": "f7fb7c5d",
   "metadata": {},
   "outputs": [
    {
     "data": {
      "text/plain": [
       "(60, 2)"
      ]
     },
     "execution_count": 67,
     "metadata": {},
     "output_type": "execute_result"
    }
   ],
   "source": [
    "embedding_weights.shape"
   ]
  },
  {
   "cell_type": "code",
   "execution_count": 68,
   "id": "4fedd877",
   "metadata": {},
   "outputs": [
    {
     "data": {
      "text/plain": [
       "array([[ 0.07683533, -0.0743304 ],\n",
       "       [-0.02049006, -0.01087557],\n",
       "       [ 0.01368325, -0.01381708],\n",
       "       [ 0.05679191,  0.00925899],\n",
       "       [ 0.02030338,  0.02498595],\n",
       "       [-0.0333598 , -0.0347733 ],\n",
       "       [-0.05254186,  0.05221553],\n",
       "       [-0.02186526,  0.05949368],\n",
       "       [-0.08909563,  0.01815683],\n",
       "       [-0.01484035,  0.02270982],\n",
       "       [ 0.08398816, -0.09211831],\n",
       "       [ 0.04356154, -0.05919483],\n",
       "       [ 0.02573724, -0.08491055],\n",
       "       [ 0.04776177,  0.00938874],\n",
       "       [-0.01207012, -0.04387641],\n",
       "       [ 0.02184692, -0.03922284],\n",
       "       [ 0.03574378, -0.03598032],\n",
       "       [ 0.04474194,  0.00894104],\n",
       "       [ 0.01130908, -0.00352001],\n",
       "       [-0.04652399,  0.01211288],\n",
       "       [-0.00592209,  0.01305426],\n",
       "       [-0.04433573, -0.00692034],\n",
       "       [ 0.04956547,  0.0082943 ],\n",
       "       [ 0.02101246, -0.02424296],\n",
       "       [-0.10809289,  0.03515143],\n",
       "       [-0.05922418,  0.05763666],\n",
       "       [-0.09191186,  0.01594621],\n",
       "       [-0.03175644,  0.04002782],\n",
       "       [ 0.06066514,  0.00106029],\n",
       "       [ 0.02878492, -0.03443355],\n",
       "       [ 0.0531986 , -0.03484081],\n",
       "       [ 0.10056684, -0.02615512],\n",
       "       [ 0.07305042, -0.03941649],\n",
       "       [-0.03708248,  0.05259816],\n",
       "       [-0.09858842,  0.01909187],\n",
       "       [-0.05131941,  0.04870766],\n",
       "       [-0.03094239,  0.04280026],\n",
       "       [-0.09489276,  0.06547326],\n",
       "       [ 0.09534073, -0.01392271],\n",
       "       [ 0.02631945, -0.08954745],\n",
       "       [ 0.09129381, -0.01821486],\n",
       "       [ 0.07539546, -0.09736799],\n",
       "       [ 0.07357877, -0.01527783],\n",
       "       [-0.0817077 ,  0.05203456],\n",
       "       [-0.04997791,  0.04983209],\n",
       "       [-0.09675638,  0.04537164],\n",
       "       [-0.0319178 ,  0.08643527],\n",
       "       [-0.02795131,  0.0320771 ],\n",
       "       [-0.08554043,  0.03059674],\n",
       "       [-0.04426172,  0.04578279],\n",
       "       [-0.1000765 ,  0.02098877],\n",
       "       [ 0.0441392 , -0.04416776],\n",
       "       [ 0.00984427, -0.06272079],\n",
       "       [ 0.0878097 , -0.01425737],\n",
       "       [ 0.08202777, -0.05632236],\n",
       "       [ 0.0153662 , -0.04100652],\n",
       "       [-0.0330068 , -0.03125159],\n",
       "       [ 0.01283317, -0.02103441],\n",
       "       [ 0.04531521,  0.01543952],\n",
       "       [ 0.02983499, -0.04976126]], dtype=float32)"
      ]
     },
     "execution_count": 68,
     "metadata": {},
     "output_type": "execute_result"
    }
   ],
   "source": [
    "embedding_weights"
   ]
  },
  {
   "cell_type": "code",
   "execution_count": null,
   "id": "9bf4335f",
   "metadata": {},
   "outputs": [],
   "source": []
  }
 ],
 "metadata": {
  "kernelspec": {
   "display_name": "msc_env",
   "language": "python",
   "name": "python3"
  },
  "language_info": {
   "codemirror_mode": {
    "name": "ipython",
    "version": 3
   },
   "file_extension": ".py",
   "mimetype": "text/x-python",
   "name": "python",
   "nbconvert_exporter": "python",
   "pygments_lexer": "ipython3",
   "version": "3.11.2"
  }
 },
 "nbformat": 4,
 "nbformat_minor": 5
}
